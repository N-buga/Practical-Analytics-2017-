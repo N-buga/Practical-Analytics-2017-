{
 "cells": [
  {
   "cell_type": "code",
   "execution_count": 1,
   "metadata": {},
   "outputs": [],
   "source": [
    "import json\n",
    "import pandas as pd\n",
    "import numpy as np\n",
    "import seaborn as sns\n",
    "import json\n",
    "import re\n",
    "\n",
    "import matplotlib.pyplot as plt\n",
    "%matplotlib inline"
   ]
  },
  {
   "cell_type": "code",
   "execution_count": 2,
   "metadata": {},
   "outputs": [],
   "source": [
    "file_name = 'banks_test.json'"
   ]
  },
  {
   "cell_type": "code",
   "execution_count": 3,
   "metadata": {},
   "outputs": [
    {
     "data": {
      "text/html": [
       "<div>\n",
       "<style>\n",
       "    .dataframe thead tr:only-child th {\n",
       "        text-align: right;\n",
       "    }\n",
       "\n",
       "    .dataframe thead th {\n",
       "        text-align: left;\n",
       "    }\n",
       "\n",
       "    .dataframe tbody tr th {\n",
       "        vertical-align: top;\n",
       "    }\n",
       "</style>\n",
       "<table border=\"1\" class=\"dataframe\">\n",
       "  <thead>\n",
       "    <tr style=\"text-align: right;\">\n",
       "      <th></th>\n",
       "      <th>mark</th>\n",
       "      <th>text</th>\n",
       "      <th>url</th>\n",
       "    </tr>\n",
       "  </thead>\n",
       "  <tbody>\n",
       "    <tr>\n",
       "      <th>0</th>\n",
       "      <td>5.0</td>\n",
       "      <td>\\n\\t\\t\\t\\t\\t\\t\\tСтавлю оценку отлично, так как...</td>\n",
       "      <td>https://www.banki.ru/services/responses/bank/r...</td>\n",
       "    </tr>\n",
       "    <tr>\n",
       "      <th>1</th>\n",
       "      <td>4.0</td>\n",
       "      <td>\\n\\t\\t\\t\\t\\t\\t\\tПару месяцев назад мне понадоб...</td>\n",
       "      <td>https://www.banki.ru/services/responses/bank/r...</td>\n",
       "    </tr>\n",
       "    <tr>\n",
       "      <th>2</th>\n",
       "      <td>2.0</td>\n",
       "      <td>\\n\\t\\t\\t\\t\\t\\t\\tРазочарованы работой банка Тин...</td>\n",
       "      <td>https://www.banki.ru/services/responses/bank/r...</td>\n",
       "    </tr>\n",
       "    <tr>\n",
       "      <th>3</th>\n",
       "      <td>1.0</td>\n",
       "      <td>\\n\\t\\t\\t\\t\\t\\t\\tВ одностороннем порядке повыси...</td>\n",
       "      <td>https://www.banki.ru/services/responses/bank/r...</td>\n",
       "    </tr>\n",
       "    <tr>\n",
       "      <th>4</th>\n",
       "      <td>1.0</td>\n",
       "      <td>\\n\\t\\t\\t\\t\\t\\t\\tДорогой Ситибанк!</td>\n",
       "      <td>https://www.banki.ru/services/responses/bank/r...</td>\n",
       "    </tr>\n",
       "  </tbody>\n",
       "</table>\n",
       "</div>"
      ],
      "text/plain": [
       "   mark                                               text  \\\n",
       "0   5.0  \\n\\t\\t\\t\\t\\t\\t\\tСтавлю оценку отлично, так как...   \n",
       "1   4.0  \\n\\t\\t\\t\\t\\t\\t\\tПару месяцев назад мне понадоб...   \n",
       "2   2.0  \\n\\t\\t\\t\\t\\t\\t\\tРазочарованы работой банка Тин...   \n",
       "3   1.0  \\n\\t\\t\\t\\t\\t\\t\\tВ одностороннем порядке повыси...   \n",
       "4   1.0                 \\n\\t\\t\\t\\t\\t\\t\\tДорогой Ситибанк!    \n",
       "\n",
       "                                                 url  \n",
       "0  https://www.banki.ru/services/responses/bank/r...  \n",
       "1  https://www.banki.ru/services/responses/bank/r...  \n",
       "2  https://www.banki.ru/services/responses/bank/r...  \n",
       "3  https://www.banki.ru/services/responses/bank/r...  \n",
       "4  https://www.banki.ru/services/responses/bank/r...  "
      ]
     },
     "execution_count": 3,
     "metadata": {},
     "output_type": "execute_result"
    }
   ],
   "source": [
    "df = pd.read_json(file_name)\n",
    "df.head()"
   ]
  },
  {
   "cell_type": "code",
   "execution_count": 4,
   "metadata": {},
   "outputs": [
    {
     "data": {
      "text/html": [
       "<div>\n",
       "<style>\n",
       "    .dataframe thead tr:only-child th {\n",
       "        text-align: right;\n",
       "    }\n",
       "\n",
       "    .dataframe thead th {\n",
       "        text-align: left;\n",
       "    }\n",
       "\n",
       "    .dataframe tbody tr th {\n",
       "        vertical-align: top;\n",
       "    }\n",
       "</style>\n",
       "<table border=\"1\" class=\"dataframe\">\n",
       "  <thead>\n",
       "    <tr style=\"text-align: right;\">\n",
       "      <th></th>\n",
       "      <th>mark</th>\n",
       "      <th>text</th>\n",
       "      <th>url</th>\n",
       "    </tr>\n",
       "  </thead>\n",
       "  <tbody>\n",
       "    <tr>\n",
       "      <th>0</th>\n",
       "      <td>5.0</td>\n",
       "      <td>Ставлю оценку отлично, так как банк является с...</td>\n",
       "      <td>https://www.banki.ru/services/responses/bank/r...</td>\n",
       "    </tr>\n",
       "    <tr>\n",
       "      <th>1</th>\n",
       "      <td>4.0</td>\n",
       "      <td>Пару месяцев назад мне понадобилось 140-150 т....</td>\n",
       "      <td>https://www.banki.ru/services/responses/bank/r...</td>\n",
       "    </tr>\n",
       "    <tr>\n",
       "      <th>2</th>\n",
       "      <td>2.0</td>\n",
       "      <td>Разочарованы работой банка Тинькофф Бизнес.</td>\n",
       "      <td>https://www.banki.ru/services/responses/bank/r...</td>\n",
       "    </tr>\n",
       "    <tr>\n",
       "      <th>3</th>\n",
       "      <td>1.0</td>\n",
       "      <td>В одностороннем порядке повысили лимит кредитк...</td>\n",
       "      <td>https://www.banki.ru/services/responses/bank/r...</td>\n",
       "    </tr>\n",
       "    <tr>\n",
       "      <th>4</th>\n",
       "      <td>1.0</td>\n",
       "      <td>Дорогой Ситибанк!</td>\n",
       "      <td>https://www.banki.ru/services/responses/bank/r...</td>\n",
       "    </tr>\n",
       "  </tbody>\n",
       "</table>\n",
       "</div>"
      ],
      "text/plain": [
       "   mark                                               text  \\\n",
       "0   5.0  Ставлю оценку отлично, так как банк является с...   \n",
       "1   4.0  Пару месяцев назад мне понадобилось 140-150 т....   \n",
       "2   2.0        Разочарованы работой банка Тинькофф Бизнес.   \n",
       "3   1.0  В одностороннем порядке повысили лимит кредитк...   \n",
       "4   1.0                                  Дорогой Ситибанк!   \n",
       "\n",
       "                                                 url  \n",
       "0  https://www.banki.ru/services/responses/bank/r...  \n",
       "1  https://www.banki.ru/services/responses/bank/r...  \n",
       "2  https://www.banki.ru/services/responses/bank/r...  \n",
       "3  https://www.banki.ru/services/responses/bank/r...  \n",
       "4  https://www.banki.ru/services/responses/bank/r...  "
      ]
     },
     "execution_count": 4,
     "metadata": {},
     "output_type": "execute_result"
    }
   ],
   "source": [
    "df['text'] = df['text'].apply(lambda x: x.strip())\n",
    "df.head()"
   ]
  },
  {
   "cell_type": "code",
   "execution_count": 5,
   "metadata": {},
   "outputs": [
    {
     "data": {
      "text/html": [
       "<div>\n",
       "<style>\n",
       "    .dataframe thead tr:only-child th {\n",
       "        text-align: right;\n",
       "    }\n",
       "\n",
       "    .dataframe thead th {\n",
       "        text-align: left;\n",
       "    }\n",
       "\n",
       "    .dataframe tbody tr th {\n",
       "        vertical-align: top;\n",
       "    }\n",
       "</style>\n",
       "<table border=\"1\" class=\"dataframe\">\n",
       "  <thead>\n",
       "    <tr style=\"text-align: right;\">\n",
       "      <th></th>\n",
       "      <th>mark</th>\n",
       "      <th>text</th>\n",
       "      <th>url</th>\n",
       "    </tr>\n",
       "  </thead>\n",
       "  <tbody>\n",
       "    <tr>\n",
       "      <th>0</th>\n",
       "      <td>5.0</td>\n",
       "      <td>Ставлю оценку отлично, так как банк является с...</td>\n",
       "      <td>https://www.banki.ru/services/responses/bank/r...</td>\n",
       "    </tr>\n",
       "    <tr>\n",
       "      <th>1</th>\n",
       "      <td>4.0</td>\n",
       "      <td>Пару месяцев назад мне понадобилось 140-150 т....</td>\n",
       "      <td>https://www.banki.ru/services/responses/bank/r...</td>\n",
       "    </tr>\n",
       "    <tr>\n",
       "      <th>2</th>\n",
       "      <td>2.0</td>\n",
       "      <td>Разочарованы работой банка Тинькофф Бизнес.</td>\n",
       "      <td>https://www.banki.ru/services/responses/bank/r...</td>\n",
       "    </tr>\n",
       "    <tr>\n",
       "      <th>3</th>\n",
       "      <td>1.0</td>\n",
       "      <td>В одностороннем порядке повысили лимит кредитк...</td>\n",
       "      <td>https://www.banki.ru/services/responses/bank/r...</td>\n",
       "    </tr>\n",
       "    <tr>\n",
       "      <th>4</th>\n",
       "      <td>1.0</td>\n",
       "      <td>Дорогой Ситибанк!</td>\n",
       "      <td>https://www.banki.ru/services/responses/bank/r...</td>\n",
       "    </tr>\n",
       "  </tbody>\n",
       "</table>\n",
       "</div>"
      ],
      "text/plain": [
       "   mark                                               text  \\\n",
       "0   5.0  Ставлю оценку отлично, так как банк является с...   \n",
       "1   4.0  Пару месяцев назад мне понадобилось 140-150 т....   \n",
       "2   2.0        Разочарованы работой банка Тинькофф Бизнес.   \n",
       "3   1.0  В одностороннем порядке повысили лимит кредитк...   \n",
       "4   1.0                                  Дорогой Ситибанк!   \n",
       "\n",
       "                                                 url  \n",
       "0  https://www.banki.ru/services/responses/bank/r...  \n",
       "1  https://www.banki.ru/services/responses/bank/r...  \n",
       "2  https://www.banki.ru/services/responses/bank/r...  \n",
       "3  https://www.banki.ru/services/responses/bank/r...  \n",
       "4  https://www.banki.ru/services/responses/bank/r...  "
      ]
     },
     "execution_count": 5,
     "metadata": {},
     "output_type": "execute_result"
    }
   ],
   "source": [
    "df_not_null = df[~df['mark'].isnull()]\n",
    "df_not_null = df_not_null[~df_not_null['text'].isnull()]\n",
    "df_not_null = df_not_null[df_not_null['text'] != '']\n",
    "df_not_null.head()"
   ]
  },
  {
   "cell_type": "code",
   "execution_count": 6,
   "metadata": {},
   "outputs": [
    {
     "data": {
      "text/plain": [
       "mark    False\n",
       "text    False\n",
       "url     False\n",
       "dtype: bool"
      ]
     },
     "execution_count": 6,
     "metadata": {},
     "output_type": "execute_result"
    }
   ],
   "source": [
    "df_not_null.isnull().any()"
   ]
  },
  {
   "cell_type": "code",
   "execution_count": 7,
   "metadata": {},
   "outputs": [
    {
     "name": "stdout",
     "output_type": "stream",
     "text": [
      "2465 2190\n"
     ]
    }
   ],
   "source": [
    "print(df.shape[0], df_not_null.shape[0])"
   ]
  },
  {
   "cell_type": "code",
   "execution_count": 8,
   "metadata": {},
   "outputs": [
    {
     "data": {
      "image/png": "[encoded data removed]",
      "text/plain": [
       "<matplotlib.figure.Figure at 0x1031340f0>"
      ]
     },
     "metadata": {},
     "output_type": "display_data"
    }
   ],
   "source": [
    "sns.distplot(df_not_null['mark'])\n",
    "plt.show()"
   ]
  },
  {
   "cell_type": "code",
   "execution_count": 9,
   "metadata": {},
   "outputs": [
    {
     "data": {
      "text/html": [
       "<div>\n",
       "<style>\n",
       "    .dataframe thead tr:only-child th {\n",
       "        text-align: right;\n",
       "    }\n",
       "\n",
       "    .dataframe thead th {\n",
       "        text-align: left;\n",
       "    }\n",
       "\n",
       "    .dataframe tbody tr th {\n",
       "        vertical-align: top;\n",
       "    }\n",
       "</style>\n",
       "<table border=\"1\" class=\"dataframe\">\n",
       "  <thead>\n",
       "    <tr style=\"text-align: right;\">\n",
       "      <th></th>\n",
       "      <th>mark</th>\n",
       "      <th>text</th>\n",
       "      <th>url</th>\n",
       "    </tr>\n",
       "  </thead>\n",
       "  <tbody>\n",
       "    <tr>\n",
       "      <th>0</th>\n",
       "      <td>1.0</td>\n",
       "      <td>Ставлю оценку отлично, так как банк является с...</td>\n",
       "      <td>https://www.banki.ru/services/responses/bank/r...</td>\n",
       "    </tr>\n",
       "    <tr>\n",
       "      <th>1</th>\n",
       "      <td>1.0</td>\n",
       "      <td>Пару месяцев назад мне понадобилось 140-150 т....</td>\n",
       "      <td>https://www.banki.ru/services/responses/bank/r...</td>\n",
       "    </tr>\n",
       "    <tr>\n",
       "      <th>2</th>\n",
       "      <td>0.0</td>\n",
       "      <td>Разочарованы работой банка Тинькофф Бизнес.</td>\n",
       "      <td>https://www.banki.ru/services/responses/bank/r...</td>\n",
       "    </tr>\n",
       "    <tr>\n",
       "      <th>3</th>\n",
       "      <td>0.0</td>\n",
       "      <td>В одностороннем порядке повысили лимит кредитк...</td>\n",
       "      <td>https://www.banki.ru/services/responses/bank/r...</td>\n",
       "    </tr>\n",
       "    <tr>\n",
       "      <th>4</th>\n",
       "      <td>0.0</td>\n",
       "      <td>Дорогой Ситибанк!</td>\n",
       "      <td>https://www.banki.ru/services/responses/bank/r...</td>\n",
       "    </tr>\n",
       "  </tbody>\n",
       "</table>\n",
       "</div>"
      ],
      "text/plain": [
       "   mark                                               text  \\\n",
       "0   1.0  Ставлю оценку отлично, так как банк является с...   \n",
       "1   1.0  Пару месяцев назад мне понадобилось 140-150 т....   \n",
       "2   0.0        Разочарованы работой банка Тинькофф Бизнес.   \n",
       "3   0.0  В одностороннем порядке повысили лимит кредитк...   \n",
       "4   0.0                                  Дорогой Ситибанк!   \n",
       "\n",
       "                                                 url  \n",
       "0  https://www.banki.ru/services/responses/bank/r...  \n",
       "1  https://www.banki.ru/services/responses/bank/r...  \n",
       "2  https://www.banki.ru/services/responses/bank/r...  \n",
       "3  https://www.banki.ru/services/responses/bank/r...  \n",
       "4  https://www.banki.ru/services/responses/bank/r...  "
      ]
     },
     "execution_count": 9,
     "metadata": {},
     "output_type": "execute_result"
    }
   ],
   "source": [
    "df_not_null.loc[df_not_null['mark'] < 3, 'mark'] = 0\n",
    "df_not_null.loc[df_not_null['mark'] >= 3, 'mark'] = 1\n",
    "df_not_null.head()"
   ]
  },
  {
   "cell_type": "code",
   "execution_count": 10,
   "metadata": {},
   "outputs": [
    {
     "data": {
      "image/png": "[encoded data removed]",
      "text/plain": [
       "<matplotlib.figure.Figure at 0x10a91a748>"
      ]
     },
     "metadata": {},
     "output_type": "display_data"
    }
   ],
   "source": [
    "sns.distplot(df_not_null['mark'])\n",
    "plt.show()"
   ]
  },
  {
   "cell_type": "code",
   "execution_count": 11,
   "metadata": {},
   "outputs": [],
   "source": [
    "df_not_null.to_csv('review_data.csv', index=False)"
   ]
  },
  {
   "cell_type": "code",
   "execution_count": null,
   "metadata": {},
   "outputs": [],
   "source": []
  }
 ],
 "metadata": {
  "kernelspec": {
   "display_name": "tensorflow",
   "language": "python",
   "name": "tensorflow"
  },
  "language_info": {
   "codemirror_mode": {
    "name": "ipython",
    "version": 3
   },
   "file_extension": ".py",
   "mimetype": "text/x-python",
   "name": "python",
   "nbconvert_exporter": "python",
   "pygments_lexer": "ipython3",
   "version": "3.6.1"
  }
 },
 "nbformat": 4,
 "nbformat_minor": 2
}
