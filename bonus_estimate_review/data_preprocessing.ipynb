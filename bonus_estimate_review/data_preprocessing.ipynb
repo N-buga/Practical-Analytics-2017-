{
 "cells": [
  {
   "cell_type": "code",
   "execution_count": 12,
   "metadata": {},
   "outputs": [],
   "source": [
    "import json\n",
    "import pandas as pd\n",
    "import numpy as np\n",
    "import seaborn as sns\n",
    "import json\n",
    "import re\n",
    "\n",
    "import matplotlib.pyplot as plt\n",
    "%matplotlib inline"
   ]
  },
  {
   "cell_type": "code",
   "execution_count": 13,
   "metadata": {},
   "outputs": [],
   "source": [
    "file_name = 'banks.json'"
   ]
  },
  {
   "cell_type": "code",
   "execution_count": 14,
   "metadata": {},
   "outputs": [
    {
     "data": {
      "text/html": [
       "<div>\n",
       "<style>\n",
       "    .dataframe thead tr:only-child th {\n",
       "        text-align: right;\n",
       "    }\n",
       "\n",
       "    .dataframe thead th {\n",
       "        text-align: left;\n",
       "    }\n",
       "\n",
       "    .dataframe tbody tr th {\n",
       "        vertical-align: top;\n",
       "    }\n",
       "</style>\n",
       "<table border=\"1\" class=\"dataframe\">\n",
       "  <thead>\n",
       "    <tr style=\"text-align: right;\">\n",
       "      <th></th>\n",
       "      <th>mark</th>\n",
       "      <th>text</th>\n",
       "      <th>url</th>\n",
       "    </tr>\n",
       "  </thead>\n",
       "  <tbody>\n",
       "    <tr>\n",
       "      <th>0</th>\n",
       "      <td>1.0</td>\n",
       "      <td>\\n\\t\\t\\t\\t\\t\\t\\tНикогда не пишу негативные отз...</td>\n",
       "      <td>https://www.banki.ru/services/responses/bank/r...</td>\n",
       "    </tr>\n",
       "    <tr>\n",
       "      <th>1</th>\n",
       "      <td>2.0</td>\n",
       "      <td>\\n\\t\\t\\t\\t\\t\\t\\tДобрый день! Хочу обратиться с...</td>\n",
       "      <td>https://www.banki.ru/services/responses/bank/r...</td>\n",
       "    </tr>\n",
       "    <tr>\n",
       "      <th>2</th>\n",
       "      <td>1.0</td>\n",
       "      <td>\\n\\t\\t\\t\\t\\t\\t\\tЧерез 1 день после подачи заяв...</td>\n",
       "      <td>https://www.banki.ru/services/responses/bank/r...</td>\n",
       "    </tr>\n",
       "    <tr>\n",
       "      <th>3</th>\n",
       "      <td>5.0</td>\n",
       "      <td>\\n\\t\\t\\t\\t\\t\\t\\tРанее обращалась по поводу нев...</td>\n",
       "      <td>https://www.banki.ru/services/responses/bank/r...</td>\n",
       "    </tr>\n",
       "    <tr>\n",
       "      <th>4</th>\n",
       "      <td>5.0</td>\n",
       "      <td>\\n\\t\\t\\t\\t\\t\\t\\tХочу искренне поблагодарить фи...</td>\n",
       "      <td>https://www.banki.ru/services/responses/bank/r...</td>\n",
       "    </tr>\n",
       "  </tbody>\n",
       "</table>\n",
       "</div>"
      ],
      "text/plain": [
       "   mark                                               text  \\\n",
       "0   1.0  \\n\\t\\t\\t\\t\\t\\t\\tНикогда не пишу негативные отз...   \n",
       "1   2.0  \\n\\t\\t\\t\\t\\t\\t\\tДобрый день! Хочу обратиться с...   \n",
       "2   1.0  \\n\\t\\t\\t\\t\\t\\t\\tЧерез 1 день после подачи заяв...   \n",
       "3   5.0  \\n\\t\\t\\t\\t\\t\\t\\tРанее обращалась по поводу нев...   \n",
       "4   5.0  \\n\\t\\t\\t\\t\\t\\t\\tХочу искренне поблагодарить фи...   \n",
       "\n",
       "                                                 url  \n",
       "0  https://www.banki.ru/services/responses/bank/r...  \n",
       "1  https://www.banki.ru/services/responses/bank/r...  \n",
       "2  https://www.banki.ru/services/responses/bank/r...  \n",
       "3  https://www.banki.ru/services/responses/bank/r...  \n",
       "4  https://www.banki.ru/services/responses/bank/r...  "
      ]
     },
     "execution_count": 14,
     "metadata": {},
     "output_type": "execute_result"
    }
   ],
   "source": [
    "df = pd.read_json(file_name)\n",
    "df.head()"
   ]
  },
  {
   "cell_type": "code",
   "execution_count": 15,
   "metadata": {},
   "outputs": [
    {
     "data": {
      "text/html": [
       "<div>\n",
       "<style>\n",
       "    .dataframe thead tr:only-child th {\n",
       "        text-align: right;\n",
       "    }\n",
       "\n",
       "    .dataframe thead th {\n",
       "        text-align: left;\n",
       "    }\n",
       "\n",
       "    .dataframe tbody tr th {\n",
       "        vertical-align: top;\n",
       "    }\n",
       "</style>\n",
       "<table border=\"1\" class=\"dataframe\">\n",
       "  <thead>\n",
       "    <tr style=\"text-align: right;\">\n",
       "      <th></th>\n",
       "      <th>mark</th>\n",
       "      <th>text</th>\n",
       "      <th>url</th>\n",
       "    </tr>\n",
       "  </thead>\n",
       "  <tbody>\n",
       "    <tr>\n",
       "      <th>0</th>\n",
       "      <td>1.0</td>\n",
       "      <td>Никогда не пишу негативные отзывы. Но в этом с...</td>\n",
       "      <td>https://www.banki.ru/services/responses/bank/r...</td>\n",
       "    </tr>\n",
       "    <tr>\n",
       "      <th>1</th>\n",
       "      <td>2.0</td>\n",
       "      <td>Добрый день! Хочу обратиться с просьбой разобр...</td>\n",
       "      <td>https://www.banki.ru/services/responses/bank/r...</td>\n",
       "    </tr>\n",
       "    <tr>\n",
       "      <th>2</th>\n",
       "      <td>1.0</td>\n",
       "      <td>Через 1 день после подачи заявки мне ее соглас...</td>\n",
       "      <td>https://www.banki.ru/services/responses/bank/r...</td>\n",
       "    </tr>\n",
       "    <tr>\n",
       "      <th>3</th>\n",
       "      <td>5.0</td>\n",
       "      <td>Ранее обращалась по поводу неверно рассчитанны...</td>\n",
       "      <td>https://www.banki.ru/services/responses/bank/r...</td>\n",
       "    </tr>\n",
       "    <tr>\n",
       "      <th>4</th>\n",
       "      <td>5.0</td>\n",
       "      <td>Хочу искренне поблагодарить филиал в целом и о...</td>\n",
       "      <td>https://www.banki.ru/services/responses/bank/r...</td>\n",
       "    </tr>\n",
       "  </tbody>\n",
       "</table>\n",
       "</div>"
      ],
      "text/plain": [
       "   mark                                               text  \\\n",
       "0   1.0  Никогда не пишу негативные отзывы. Но в этом с...   \n",
       "1   2.0  Добрый день! Хочу обратиться с просьбой разобр...   \n",
       "2   1.0  Через 1 день после подачи заявки мне ее соглас...   \n",
       "3   5.0  Ранее обращалась по поводу неверно рассчитанны...   \n",
       "4   5.0  Хочу искренне поблагодарить филиал в целом и о...   \n",
       "\n",
       "                                                 url  \n",
       "0  https://www.banki.ru/services/responses/bank/r...  \n",
       "1  https://www.banki.ru/services/responses/bank/r...  \n",
       "2  https://www.banki.ru/services/responses/bank/r...  \n",
       "3  https://www.banki.ru/services/responses/bank/r...  \n",
       "4  https://www.banki.ru/services/responses/bank/r...  "
      ]
     },
     "execution_count": 15,
     "metadata": {},
     "output_type": "execute_result"
    }
   ],
   "source": [
    "df['text'] = df['text'].apply(lambda x: x.strip())\n",
    "df.head()"
   ]
  },
  {
   "cell_type": "code",
   "execution_count": 16,
   "metadata": {},
   "outputs": [
    {
     "data": {
      "text/html": [
       "<div>\n",
       "<style>\n",
       "    .dataframe thead tr:only-child th {\n",
       "        text-align: right;\n",
       "    }\n",
       "\n",
       "    .dataframe thead th {\n",
       "        text-align: left;\n",
       "    }\n",
       "\n",
       "    .dataframe tbody tr th {\n",
       "        vertical-align: top;\n",
       "    }\n",
       "</style>\n",
       "<table border=\"1\" class=\"dataframe\">\n",
       "  <thead>\n",
       "    <tr style=\"text-align: right;\">\n",
       "      <th></th>\n",
       "      <th>mark</th>\n",
       "      <th>text</th>\n",
       "      <th>url</th>\n",
       "    </tr>\n",
       "  </thead>\n",
       "  <tbody>\n",
       "    <tr>\n",
       "      <th>0</th>\n",
       "      <td>1.0</td>\n",
       "      <td>Никогда не пишу негативные отзывы. Но в этом с...</td>\n",
       "      <td>https://www.banki.ru/services/responses/bank/r...</td>\n",
       "    </tr>\n",
       "    <tr>\n",
       "      <th>1</th>\n",
       "      <td>2.0</td>\n",
       "      <td>Добрый день! Хочу обратиться с просьбой разобр...</td>\n",
       "      <td>https://www.banki.ru/services/responses/bank/r...</td>\n",
       "    </tr>\n",
       "    <tr>\n",
       "      <th>2</th>\n",
       "      <td>1.0</td>\n",
       "      <td>Через 1 день после подачи заявки мне ее соглас...</td>\n",
       "      <td>https://www.banki.ru/services/responses/bank/r...</td>\n",
       "    </tr>\n",
       "    <tr>\n",
       "      <th>3</th>\n",
       "      <td>5.0</td>\n",
       "      <td>Ранее обращалась по поводу неверно рассчитанны...</td>\n",
       "      <td>https://www.banki.ru/services/responses/bank/r...</td>\n",
       "    </tr>\n",
       "    <tr>\n",
       "      <th>4</th>\n",
       "      <td>5.0</td>\n",
       "      <td>Хочу искренне поблагодарить филиал в целом и о...</td>\n",
       "      <td>https://www.banki.ru/services/responses/bank/r...</td>\n",
       "    </tr>\n",
       "  </tbody>\n",
       "</table>\n",
       "</div>"
      ],
      "text/plain": [
       "   mark                                               text  \\\n",
       "0   1.0  Никогда не пишу негативные отзывы. Но в этом с...   \n",
       "1   2.0  Добрый день! Хочу обратиться с просьбой разобр...   \n",
       "2   1.0  Через 1 день после подачи заявки мне ее соглас...   \n",
       "3   5.0  Ранее обращалась по поводу неверно рассчитанны...   \n",
       "4   5.0  Хочу искренне поблагодарить филиал в целом и о...   \n",
       "\n",
       "                                                 url  \n",
       "0  https://www.banki.ru/services/responses/bank/r...  \n",
       "1  https://www.banki.ru/services/responses/bank/r...  \n",
       "2  https://www.banki.ru/services/responses/bank/r...  \n",
       "3  https://www.banki.ru/services/responses/bank/r...  \n",
       "4  https://www.banki.ru/services/responses/bank/r...  "
      ]
     },
     "execution_count": 16,
     "metadata": {},
     "output_type": "execute_result"
    }
   ],
   "source": [
    "df_not_null = df[~df['mark'].isnull()]\n",
    "df_not_null = df_not_null[~df_not_null['text'].isnull()]\n",
    "df_not_null = df_not_null[df_not_null['text'] != '']\n",
    "df_not_null.head()"
   ]
  },
  {
   "cell_type": "code",
   "execution_count": 17,
   "metadata": {},
   "outputs": [
    {
     "data": {
      "text/plain": [
       "mark    False\n",
       "text    False\n",
       "url     False\n",
       "dtype: bool"
      ]
     },
     "execution_count": 17,
     "metadata": {},
     "output_type": "execute_result"
    }
   ],
   "source": [
    "df_not_null.isnull().any()"
   ]
  },
  {
   "cell_type": "code",
   "execution_count": 18,
   "metadata": {},
   "outputs": [
    {
     "name": "stdout",
     "output_type": "stream",
     "text": [
      "24838 15910\n"
     ]
    }
   ],
   "source": [
    "print(df.shape[0], df_not_null.shape[0])"
   ]
  },
  {
   "cell_type": "code",
   "execution_count": 19,
   "metadata": {},
   "outputs": [
    {
     "data": {
      "image/png": "[encoded data removed]",
      "text/plain": [
       "<matplotlib.figure.Figure at 0x10aa74a58>"
      ]
     },
     "metadata": {},
     "output_type": "display_data"
    }
   ],
   "source": [
    "sns.distplot(df_not_null['mark'])\n",
    "plt.show()"
   ]
  },
  {
   "cell_type": "code",
   "execution_count": 20,
   "metadata": {},
   "outputs": [
    {
     "data": {
      "text/html": [
       "<div>\n",
       "<style>\n",
       "    .dataframe thead tr:only-child th {\n",
       "        text-align: right;\n",
       "    }\n",
       "\n",
       "    .dataframe thead th {\n",
       "        text-align: left;\n",
       "    }\n",
       "\n",
       "    .dataframe tbody tr th {\n",
       "        vertical-align: top;\n",
       "    }\n",
       "</style>\n",
       "<table border=\"1\" class=\"dataframe\">\n",
       "  <thead>\n",
       "    <tr style=\"text-align: right;\">\n",
       "      <th></th>\n",
       "      <th>mark</th>\n",
       "      <th>text</th>\n",
       "      <th>url</th>\n",
       "    </tr>\n",
       "  </thead>\n",
       "  <tbody>\n",
       "    <tr>\n",
       "      <th>0</th>\n",
       "      <td>0.0</td>\n",
       "      <td>Никогда не пишу негативные отзывы. Но в этом с...</td>\n",
       "      <td>https://www.banki.ru/services/responses/bank/r...</td>\n",
       "    </tr>\n",
       "    <tr>\n",
       "      <th>1</th>\n",
       "      <td>0.0</td>\n",
       "      <td>Добрый день! Хочу обратиться с просьбой разобр...</td>\n",
       "      <td>https://www.banki.ru/services/responses/bank/r...</td>\n",
       "    </tr>\n",
       "    <tr>\n",
       "      <th>2</th>\n",
       "      <td>0.0</td>\n",
       "      <td>Через 1 день после подачи заявки мне ее соглас...</td>\n",
       "      <td>https://www.banki.ru/services/responses/bank/r...</td>\n",
       "    </tr>\n",
       "    <tr>\n",
       "      <th>3</th>\n",
       "      <td>1.0</td>\n",
       "      <td>Ранее обращалась по поводу неверно рассчитанны...</td>\n",
       "      <td>https://www.banki.ru/services/responses/bank/r...</td>\n",
       "    </tr>\n",
       "    <tr>\n",
       "      <th>4</th>\n",
       "      <td>1.0</td>\n",
       "      <td>Хочу искренне поблагодарить филиал в целом и о...</td>\n",
       "      <td>https://www.banki.ru/services/responses/bank/r...</td>\n",
       "    </tr>\n",
       "  </tbody>\n",
       "</table>\n",
       "</div>"
      ],
      "text/plain": [
       "   mark                                               text  \\\n",
       "0   0.0  Никогда не пишу негативные отзывы. Но в этом с...   \n",
       "1   0.0  Добрый день! Хочу обратиться с просьбой разобр...   \n",
       "2   0.0  Через 1 день после подачи заявки мне ее соглас...   \n",
       "3   1.0  Ранее обращалась по поводу неверно рассчитанны...   \n",
       "4   1.0  Хочу искренне поблагодарить филиал в целом и о...   \n",
       "\n",
       "                                                 url  \n",
       "0  https://www.banki.ru/services/responses/bank/r...  \n",
       "1  https://www.banki.ru/services/responses/bank/r...  \n",
       "2  https://www.banki.ru/services/responses/bank/r...  \n",
       "3  https://www.banki.ru/services/responses/bank/r...  \n",
       "4  https://www.banki.ru/services/responses/bank/r...  "
      ]
     },
     "execution_count": 20,
     "metadata": {},
     "output_type": "execute_result"
    }
   ],
   "source": [
    "df_not_null.loc[df_not_null['mark'] < 3, 'mark'] = 0\n",
    "df_not_null.loc[df_not_null['mark'] >= 3, 'mark'] = 1\n",
    "df_not_null.head()"
   ]
  },
  {
   "cell_type": "code",
   "execution_count": 21,
   "metadata": {},
   "outputs": [
    {
     "data": {
      "image/png": "[encoded data removed]",
      "text/plain": [
       "<matplotlib.figure.Figure at 0x10abb7320>"
      ]
     },
     "metadata": {},
     "output_type": "display_data"
    }
   ],
   "source": [
    "sns.distplot(df_not_null['mark'])\n",
    "plt.show()"
   ]
  },
  {
   "cell_type": "code",
   "execution_count": 22,
   "metadata": {},
   "outputs": [],
   "source": [
    "df_not_null.to_csv('review_data.csv', index=False)"
   ]
  },
  {
   "cell_type": "code",
   "execution_count": null,
   "metadata": {},
   "outputs": [],
   "source": []
  }
 ],
 "metadata": {
  "kernelspec": {
   "display_name": "tensorflow",
   "language": "python",
   "name": "tensorflow"
  },
  "language_info": {
   "codemirror_mode": {
    "name": "ipython",
    "version": 3
   },
   "file_extension": ".py",
   "mimetype": "text/x-python",
   "name": "python",
   "nbconvert_exporter": "python",
   "pygments_lexer": "ipython3",
   "version": "3.6.1"
  }
 },
 "nbformat": 4,
 "nbformat_minor": 2
}
