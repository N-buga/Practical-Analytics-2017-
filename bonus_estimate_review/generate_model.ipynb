{
 "cells": [
  {
   "cell_type": "markdown",
   "metadata": {},
   "source": [
    "# Оценка для отзыва"
   ]
  },
  {
   "cell_type": "markdown",
   "metadata": {},
   "source": [
    "Это будет задача классификации. Есть датасет `X`, состоящий из отзывов, и соответсвенный ему `y`, в котором значения бывают 0 или 1. И оценивать мы будем тоже бинарно -- хороший отзыв или плохой."
   ]
  },
  {
   "cell_type": "markdown",
   "metadata": {},
   "source": [
    "Данные кроулятся с сайта http://www.banki.ru. Изначально там пятибальная оценка, однако отзывов 2, 3 и 4 сильно меньше, чем остальных, поэтому было решено переделать это в бинарную оценку. Считаем, что все, что меньше или равно 2 -- это 0, а больше или равно 3 -- 1. Граница тоже выбрана не случайно, дело в том, что отрицательных отзывов больше, поэтому 3 было решено отнести к положительным оценкам. Обработка данных выполнена в файле `data_preprocessing`."
   ]
  },
  {
   "cell_type": "markdown",
   "metadata": {},
   "source": [
    " Соответсвенно, прогнозы будут показываться числом -- 0 или 1. 0 подсвечивается красным, 1 -- зеленым."
   ]
  },
  {
   "cell_type": "markdown",
   "metadata": {},
   "source": [
    "Для машинного обучения была выбран ансамбль деревьев(`RandomForest`) быстрый и легкий алгоритм машинного обучения. Качество оценивалось на тестовой выборке, то есть весь датасет делился на обучающую и тестовую."
   ]
  },
  {
   "cell_type": "markdown",
   "metadata": {},
   "source": [
    "Отзывы на русском языке, поэтому, понятно, с английским ничего работать не будет. Длина отзыва не так важна, это может повлиять разве что на скорость обработки. Для векторизации использовался обычный bag-of-words."
   ]
  },
  {
   "cell_type": "code",
   "execution_count": null,
   "metadata": {},
   "outputs": [],
   "source": [
    "import numpy as np\n",
    "import pandas as pd\n",
    "import re\n",
    "\n",
    "from sklearn.pipeline import make_pipeline\n",
    "from sklearn.ensemble import RandomForestClassifier\n",
    "from sklearn.model_selection import train_test_split\n",
    "from sklearn.feature_extraction.text import CountVectorizer\n",
    "from sklearn.feature_extraction.text import TfidfVectorizer"
   ]
  },
  {
   "cell_type": "code",
   "execution_count": 41,
   "metadata": {},
   "outputs": [],
   "source": [
    "file_name = 'review_data.csv'"
   ]
  },
  {
   "cell_type": "code",
   "execution_count": 42,
   "metadata": {},
   "outputs": [
    {
     "data": {
      "text/html": [
       "<div>\n",
       "<style>\n",
       "    .dataframe thead tr:only-child th {\n",
       "        text-align: right;\n",
       "    }\n",
       "\n",
       "    .dataframe thead th {\n",
       "        text-align: left;\n",
       "    }\n",
       "\n",
       "    .dataframe tbody tr th {\n",
       "        vertical-align: top;\n",
       "    }\n",
       "</style>\n",
       "<table border=\"1\" class=\"dataframe\">\n",
       "  <thead>\n",
       "    <tr style=\"text-align: right;\">\n",
       "      <th></th>\n",
       "      <th>mark</th>\n",
       "      <th>text</th>\n",
       "      <th>url</th>\n",
       "    </tr>\n",
       "  </thead>\n",
       "  <tbody>\n",
       "    <tr>\n",
       "      <th>0</th>\n",
       "      <td>1.0</td>\n",
       "      <td>Ставлю оценку отлично, так как банк является с...</td>\n",
       "      <td>https://www.banki.ru/services/responses/bank/r...</td>\n",
       "    </tr>\n",
       "    <tr>\n",
       "      <th>1</th>\n",
       "      <td>1.0</td>\n",
       "      <td>Пару месяцев назад мне понадобилось 140-150 т....</td>\n",
       "      <td>https://www.banki.ru/services/responses/bank/r...</td>\n",
       "    </tr>\n",
       "    <tr>\n",
       "      <th>2</th>\n",
       "      <td>0.0</td>\n",
       "      <td>Разочарованы работой банка Тинькофф Бизнес.</td>\n",
       "      <td>https://www.banki.ru/services/responses/bank/r...</td>\n",
       "    </tr>\n",
       "    <tr>\n",
       "      <th>3</th>\n",
       "      <td>0.0</td>\n",
       "      <td>В одностороннем порядке повысили лимит кредитк...</td>\n",
       "      <td>https://www.banki.ru/services/responses/bank/r...</td>\n",
       "    </tr>\n",
       "    <tr>\n",
       "      <th>4</th>\n",
       "      <td>0.0</td>\n",
       "      <td>Дорогой Ситибанк!</td>\n",
       "      <td>https://www.banki.ru/services/responses/bank/r...</td>\n",
       "    </tr>\n",
       "  </tbody>\n",
       "</table>\n",
       "</div>"
      ],
      "text/plain": [
       "   mark                                               text  \\\n",
       "0   1.0  Ставлю оценку отлично, так как банк является с...   \n",
       "1   1.0  Пару месяцев назад мне понадобилось 140-150 т....   \n",
       "2   0.0        Разочарованы работой банка Тинькофф Бизнес.   \n",
       "3   0.0  В одностороннем порядке повысили лимит кредитк...   \n",
       "4   0.0                                  Дорогой Ситибанк!   \n",
       "\n",
       "                                                 url  \n",
       "0  https://www.banki.ru/services/responses/bank/r...  \n",
       "1  https://www.banki.ru/services/responses/bank/r...  \n",
       "2  https://www.banki.ru/services/responses/bank/r...  \n",
       "3  https://www.banki.ru/services/responses/bank/r...  \n",
       "4  https://www.banki.ru/services/responses/bank/r...  "
      ]
     },
     "execution_count": 42,
     "metadata": {},
     "output_type": "execute_result"
    }
   ],
   "source": [
    "df = pd.read_csv(file_name)\n",
    "df.head()"
   ]
  },
  {
   "cell_type": "code",
   "execution_count": 53,
   "metadata": {},
   "outputs": [],
   "source": [
    "model = make_pipeline(\n",
    "    CountVectorizer(),\n",
    "    RandomForestClassifier()\n",
    ")"
   ]
  },
  {
   "cell_type": "code",
   "execution_count": 56,
   "metadata": {},
   "outputs": [],
   "source": [
    "index_list = list(df.index)\n",
    "np.random.shuffle(index_list)\n",
    "\n",
    "cnt_learn = int(2*len(index_list)/3)\n",
    "cnt_test = len(index_list) - cnt_learn\n",
    "\n",
    "index_learn = index_list[:cnt_learn]\n",
    "index_test = index_list[cnt_learn:]\n",
    "\n",
    "learn_dataset = df.loc[index_learn, 'text']\n",
    "test_dataset = df.loc[index_test, 'text']\n",
    "\n",
    "learn_y = df.loc[index_learn, 'mark']\n",
    "test_y = df.loc[index_test, 'mark']"
   ]
  },
  {
   "cell_type": "code",
   "execution_count": 58,
   "metadata": {},
   "outputs": [
    {
     "data": {
      "text/plain": [
       "Pipeline(memory=None,\n",
       "     steps=[('countvectorizer', CountVectorizer(analyzer='word', binary=False, decode_error='strict',\n",
       "        dtype=<class 'numpy.int64'>, encoding='utf-8', input='content',\n",
       "        lowercase=True, max_df=1.0, max_features=None, min_df=1,\n",
       "        ngram_range=(1, 1), preprocessor=None, stop_words=None,\n",
       "  ...n_jobs=1,\n",
       "            oob_score=False, random_state=None, verbose=0,\n",
       "            warm_start=False))])"
      ]
     },
     "execution_count": 58,
     "metadata": {},
     "output_type": "execute_result"
    }
   ],
   "source": [
    "model.fit(learn_dataset, learn_y)"
   ]
  },
  {
   "cell_type": "code",
   "execution_count": 62,
   "metadata": {},
   "outputs": [
    {
     "data": {
      "text/plain": [
       "0.79041095890410962"
      ]
     },
     "execution_count": 62,
     "metadata": {},
     "output_type": "execute_result"
    }
   ],
   "source": [
    "((model.predict(test_dataset) == test_y).sum())/(test_y.shape[0])"
   ]
  },
  {
   "cell_type": "code",
   "execution_count": 67,
   "metadata": {},
   "outputs": [],
   "source": [
    "import pickle\n",
    "with open('model.md', 'wb') as file_to:\n",
    "    pickle.dump(model, file_to)"
   ]
  },
  {
   "cell_type": "markdown",
   "metadata": {},
   "source": [
    "<img src=\"files/mark_0.png\">"
   ]
  },
  {
   "cell_type": "markdown",
   "metadata": {},
   "source": [
    "<img src=\"files/mark_1.png\">"
   ]
  }
 ],
 "metadata": {
  "kernelspec": {
   "display_name": "tensorflow",
   "language": "python",
   "name": "tensorflow"
  },
  "language_info": {
   "codemirror_mode": {
    "name": "ipython",
    "version": 3
   },
   "file_extension": ".py",
   "mimetype": "text/x-python",
   "name": "python",
   "nbconvert_exporter": "python",
   "pygments_lexer": "ipython3",
   "version": "3.6.1"
  }
 },
 "nbformat": 4,
 "nbformat_minor": 2
}
